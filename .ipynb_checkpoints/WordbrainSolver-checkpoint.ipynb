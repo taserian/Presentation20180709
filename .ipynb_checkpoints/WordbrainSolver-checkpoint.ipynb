{
 "cells": [
  {
   "cell_type": "code",
   "execution_count": 1,
   "metadata": {},
   "outputs": [
    {
     "ename": "NameError",
     "evalue": "name 'solve' is not defined",
     "output_type": "error",
     "traceback": [
      "\u001b[1;31m---------------------------------------------------------------------------\u001b[0m",
      "\u001b[1;31mNameError\u001b[0m                                 Traceback (most recent call last)",
      "\u001b[1;32m<ipython-input-1-b1501ed28230>\u001b[0m in \u001b[0;36m<module>\u001b[1;34m()\u001b[0m\n\u001b[0;32m     28\u001b[0m \u001b[0mnrows\u001b[0m\u001b[1;33m,\u001b[0m \u001b[0mncols\u001b[0m \u001b[1;33m=\u001b[0m \u001b[0mlen\u001b[0m\u001b[1;33m(\u001b[0m\u001b[0mgrid\u001b[0m\u001b[1;33m)\u001b[0m\u001b[1;33m,\u001b[0m \u001b[0mlen\u001b[0m\u001b[1;33m(\u001b[0m\u001b[0mgrid\u001b[0m\u001b[1;33m[\u001b[0m\u001b[1;36m0\u001b[0m\u001b[1;33m]\u001b[0m\u001b[1;33m)\u001b[0m\u001b[1;33m\u001b[0m\u001b[0m\n\u001b[0;32m     29\u001b[0m \u001b[1;33m\u001b[0m\u001b[0m\n\u001b[1;32m---> 30\u001b[1;33m \u001b[0manswer_words\u001b[0m \u001b[1;33m=\u001b[0m \u001b[1;33m[\u001b[0m\u001b[0mword\u001b[0m \u001b[1;32mfor\u001b[0m \u001b[0mword\u001b[0m\u001b[1;33m,\u001b[0m \u001b[0mpath\u001b[0m \u001b[1;32min\u001b[0m \u001b[0msolve\u001b[0m\u001b[1;33m(\u001b[0m\u001b[0mgrid\u001b[0m\u001b[1;33m)\u001b[0m \u001b[1;32mif\u001b[0m \u001b[0mlen\u001b[0m\u001b[1;33m(\u001b[0m\u001b[0mword\u001b[0m\u001b[1;33m)\u001b[0m \u001b[1;32min\u001b[0m \u001b[0mword_lengths\u001b[0m\u001b[1;33m]\u001b[0m\u001b[1;33m\u001b[0m\u001b[0m\n\u001b[0m\u001b[0;32m     31\u001b[0m \u001b[0mprint_answers\u001b[0m\u001b[1;33m(\u001b[0m\u001b[0manswer_words\u001b[0m\u001b[1;33m)\u001b[0m\u001b[1;33m\u001b[0m\u001b[0m\n",
      "\u001b[1;31mNameError\u001b[0m: name 'solve' is not defined"
     ]
    }
   ],
   "source": [
    "## T K T C T T\n",
    "## P L A H E E \n",
    "## T N I E H N\n",
    "## K E I I V N\n",
    "## C A M G A I\n",
    "## R O N E T S\n",
    "\n",
    "# After selecting ROCKET . . .\n",
    "\n",
    "## - - T C T T\n",
    "## - - A H E E \n",
    "## - K I E H N\n",
    "## - L I I V N\n",
    "## T N M G A I\n",
    "## P A N E T S\n",
    "\n",
    "## Count X Word length\n",
    "## 1 X 4\n",
    "## 1 X 5\n",
    "## 2 X 6\n",
    "## 1 X 7\n",
    "## 1 X 8\n",
    "\n",
    "## Solution: Rocket, Milk, Paint, Tennis, Negative, Hatchet\n",
    "\n",
    "grid = \"tktctt plahee tniehn keiivn camgai ronets\".split() \n",
    "word_lengths = [4, 5, 6, 7, 8]\n",
    "nrows, ncols = len(grid), len(grid[0])\n",
    "\n",
    "answer_words = [word for word, path in solve(grid) if len(word) in word_lengths]\n",
    "print_answers(answer_words)\n",
    "\n"
   ]
  },
  {
   "cell_type": "code",
   "execution_count": null,
   "metadata": {},
   "outputs": [],
   "source": [
    "from __future__ import print_function\n",
    "from ipywidgets import interact, interactive, fixed, interact_manual\n",
    "from IPython.display import display\n",
    "import ipywidgets as widgets\n",
    "import re\n",
    "\n",
    "\n",
    "def neighbors(x):\n",
    "    for nx in range(max(0, x[0]-1), min(x[0]+2, ncols)):\n",
    "        for ny in range(max(0, x[1]-1), min(x[1]+2, nrows)):\n",
    "            yield (nx, ny)\n",
    "\n",
    "            \n",
    "def extending(prefix, path, words, prefixes):\n",
    "    if prefix in words:\n",
    "        yield (prefix, path)\n",
    "    for (nx, ny) in neighbors(path[-1]):\n",
    "        if (nx, ny) not in path:\n",
    "            prefix1 = prefix + grid[ny][nx]\n",
    "            if prefix1 in prefixes:\n",
    "                for result in extending(prefix1, path + ((nx, ny),), words, prefixes):\n",
    "                    yield result\n",
    "\n",
    "                    \n",
    "def solve(grid):\n",
    "    alphabet = ''.join(re.findall(\"[a-zA-Z]+\", ''.join(set(''.join([c for c in \"\".join(grid) if c.isalpha()])))))\n",
    "    bogglable = re.compile('[' + alphabet + ']{3,}$', re.I).match\n",
    "    words = set(word.rstrip('\\n') for word in open('sowpods.txt') if bogglable(word))\n",
    "    prefixes = set(word[:i] for word in words for i in range(2, len(word)+1))\n",
    "    for y, row in enumerate(grid):\n",
    "        for x, letter in enumerate(row):\n",
    "            for result in extending(letter, ((x, y),), words, prefixes):\n",
    "                yield result    \n",
    "                "
   ]
  },
  {
   "cell_type": "code",
   "execution_count": null,
   "metadata": {},
   "outputs": [],
   "source": [
    "def print_answers(a_words):\n",
    "    a_words.sort(key=lambda item: (-len(item), item))\n",
    "    lengths = set()\n",
    "    for w in a_words:\n",
    "        if len(w) in word_lengths:\n",
    "            lengths.add(len(w))\n",
    "    for i in sorted(list(lengths)):\n",
    "        print(', '.join(word for word in a_words if len(word) == i))\n",
    "        print()\n"
   ]
  },
  {
   "cell_type": "code",
   "execution_count": null,
   "metadata": {
    "collapsed": true
   },
   "outputs": [],
   "source": [
    "#def resolve(grid, word_lengths):\n",
    "#    global gr, word_l, nrows, ncols\n",
    "#    gr = grid.split()\n",
    "#    word_l = [int(i) for i in word_lengths.split(\",\")]\n",
    "#    nrows, ncols = len(gr), len(gr[0])\n",
    "#\n",
    "#    answer_words = [word for word, path in solve(gr) if len(word) in word_l]\n",
    "#    print_answers(answer_words)\n",
    "    \n",
    "#w = interact_manual(resolve, grid=\"abcde fghij klmno\", word_lengths=\"4, 5\")"
   ]
  }
 ],
 "metadata": {
  "kernelspec": {
   "display_name": "Python 3",
   "language": "python",
   "name": "python3"
  },
  "language_info": {
   "codemirror_mode": {
    "name": "ipython",
    "version": 3
   },
   "file_extension": ".py",
   "mimetype": "text/x-python",
   "name": "python",
   "nbconvert_exporter": "python",
   "pygments_lexer": "ipython3",
   "version": "3.6.5"
  }
 },
 "nbformat": 4,
 "nbformat_minor": 2
}
