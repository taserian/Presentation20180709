{
 "cells": [
  {
   "cell_type": "code",
   "execution_count": 7,
   "metadata": {},
   "outputs": [
    {
     "name": "stdout",
     "output_type": "stream",
     "text": [
      "ache, ache, agen, agin, agma, aiga, aine, aine, aits, amen, amen, amia, amie, amie, amie, amin, anga, anil, anis, ante, arco, cain, cain, cake, calk, calp, came, came, camo, cane, cane, cang, cant, ceil, cent, cete, cete, chai, chal, chat, chia, chin, coma, come, come, cone, cram, cran, each, east, eath, eats, eave, eche, echt, echt, eech, eech, eevn, eevn, egma, eina, eina, eina, eina, eine, eine, etas, etch, etch, eten, eten, eten, eten, ethe, ethe, ethe, etna, gaen, gain, gait, gast, gate, gats, gave, gean, geat, gena, geta, gets, gien, gink, give, gnar, hail, hain, halt, halt, halt, hank, hant, heal, heal, heat, heat, hech, heil, heil, hete, hete, hete, hete, hete, hete, heth, heth, hila, hilt, hilt, hilt, hint, hive, ilka, inia, inia, itas, item, kaie, kaie, kaie, kaie, kail, kaim, kain, kain, kali, kame, kame, kami, kami, kane, kane, kang, kant, kaon, karo, kent, lace, lain, lane, lank, lant, lath, lien, line, link, lint, mace, mack, main, make, mane, mang, mano, marc, mean, mean, meat, meck, mega, mein, mein, meng, meno, ment, meta, mets, mien, mina, mine, mini, mink, mint, moai, moan, mock, mona, mong, mora, nach, nail, nain, name, name, narc, nats, nave, near, neat, neck, nema, nema, nemn, nete, nete, nete, nete, nets, nett, nett, nett, nett, nite, nits, nock, noma, nome, nome, omen, omen, orca, plan, plat, plie, plie, race, rack, rain, rake, rami, rami, rang, roam, roan, rock, roma, rone, rong, sage, saim, sain, sate, sati, save, sinh, site, stag, stem, sten, tace, tach, tact, taig, tail, tain, tain, tais, tali, talk, tane, tanh, tank, teak, team, tear, teas, tech, tech, teen, teen, teen, teen, teil, teme, teme, tene, tene, tene, tene, tete, tete, tete, tete, teth, teth, thae, thae, than, than, that, thee, thee, thee, thee, thee, thee, then, then, thin, thin, vagi, vagi, vain, vast, vats, veal, veil, vein, vein, viae, viae, vias, vias, viga, vina, visa, vita, vite\n",
      "\n",
      "ahint, aigas, alien, aline, ament, amias, amiga, amiga, amine, among, anear, angas, anima, anime, anime, animi, carom, chain, chalk, chank, chant, cheat, china, chine, chink, comae, comet, comet, conga, conge, coram, craig, crake, crame, crame, crane, croak, crome, crome, crone, ctene, ctene, eathe, eigne, eigne, eigne, emong, emong, enact, enact, eniac, eniac, ethal, ethal, evite, gaits, geats, genoa, genom, getas, gnome, gnome, haint, heath, hecht, hecht, henna, henna, henna, hiant, imine, kanga, lacet, lacet, latch, lathe, lathe, lathi, liane, linac, macon, macro, manet, manga, mange, manor, maron, meane, meats, meint, meint, metis, minae, minke, morae, nache, nache, naevi, naevi, naive, naive, narco, natch, natis, neats, ngati, nomen, oaken, ocean, omega, orang, place, plain, plane, plank, plant, plink, racon, raine, ramen, ramen, ramet, ramet, ramie, ramie, ramie, ramin, range, rangi, rangi, roman, satem, satin, savin, stage, staig, stain, stave, stean, steme, steno, stive, tacet, tacet, tache, tache, tagma, taint, tanka, tecta, tecta, teeth, teeth, tenet, tenet, tenet, tenet, tenia, tenia, tenor, thali, thali, thane, thane, thank, thank, theca, theca, thein, thein, thein, thein, thete, thete, thete, thilk, thilk, thine, thine, think, think, vigas, vigia, vimen, vimen, vinas, vista, vitae, vitas\n",
      "\n",
      "achene, agname, agname, amigas, amigas, amorce, anemia, anemia, anemia, angina, anomie, anomie, anomie, catlin, chaine, chenet, chenet, chevin, comake, comets, congas, congii, congii, congii, congii, cronet, earcon, eatche, echini, emetin, enamor, engine, enigma, enlace, ennage, ennage, ethane, ethane, gannet, gannet, gannet, gannet, gemini, genome, gnomae, health, heinie, heinie, heinie, heinie, hennas, hennas, hennas, ignaro, ignaro, inlace, inlace, kangas, klatch, lathee, lathee, lathee, lathen, linear, macron, mangas, meinie, meinie, menace, menace, menial, nacket, native, ngatis, nocake, nocent, nocket, nomina, omegas, orange, orcein, orcein, placet, placet, plaint, planet, pliant, raceme, racket, ramets, rocket, saimin, sative, sinnet, sinnet, sinnet, sinnet, tagine, tahini, techie, techie, techie, techie, tectal, tectal, teethe, teethe, tegmen, tenace, tenace, tenail, teniae, tennis, tennis, tennis, tennis, thecae, thecae, thecal, thecal, theine, theine, theine, theine, vagina, veinal, veinal, vimina, visage\n",
      "\n",
      "acromia, agnomen, akenial, anemias, anemias, anemone, anginal, cronets, enamine, etchant, etchant, gateman, gatemen, geminal, heathen, latchet, latchet, lineman, linemen, moraine, naivist, nametag, narcein, narcein, nominal, raiment, romaine, tegmina, tennist, tennist, tennist, tennist, vaginae, vaginal, viminal\n",
      "\n",
      "agnomina, chatline, coramine, envisage, envisage, ignorami, ignorami, morainal, negative, tegminal\n",
      "\n"
     ]
    }
   ],
   "source": [
    "## T K T C T T\n",
    "## P L A H E E \n",
    "## T N I E H N\n",
    "## K E I I V N\n",
    "## C A M G A I\n",
    "## R O N E T S\n",
    "\n",
    "## Count X Word length\n",
    "## 1 X 4\n",
    "## 1 X 5\n",
    "## 2 X 6\n",
    "## 1 X 7\n",
    "## 1 X 8\n",
    "\n",
    "grid = \"tktctt plahee tniehn keiivn camgai ronets\".split() \n",
    "word_lengths = [4, 5, 6, 7, 8]\n",
    "nrows, ncols = len(grid), len(grid[0])\n",
    "\n",
    "answer_words = [word for word, path in solve(grid) if len(word) in word_lengths]\n",
    "print_answers(answer_words)\n",
    "\n",
    "## Solution: Rocket, Milk, Paint, Tennis, Negative, Hatchet"
   ]
  },
  {
   "cell_type": "code",
   "execution_count": 5,
   "metadata": {},
   "outputs": [],
   "source": [
    "from __future__ import print_function\n",
    "from ipywidgets import interact, interactive, fixed, interact_manual\n",
    "from IPython.display import display\n",
    "import ipywidgets as widgets\n",
    "import re\n",
    "\n",
    "\n",
    "def neighbors(x):\n",
    "    for nx in range(max(0, x[0]-1), min(x[0]+2, ncols)):\n",
    "        for ny in range(max(0, x[1]-1), min(x[1]+2, nrows)):\n",
    "            yield (nx, ny)\n",
    "\n",
    "            \n",
    "def extending(prefix, path, words, prefixes):\n",
    "    if prefix in words:\n",
    "        yield (prefix, path)\n",
    "    for (nx, ny) in neighbors(path[-1]):\n",
    "        if (nx, ny) not in path:\n",
    "            prefix1 = prefix + grid[ny][nx]\n",
    "            if prefix1 in prefixes:\n",
    "                for result in extending(prefix1, path + ((nx, ny),), words, prefixes):\n",
    "                    yield result\n",
    "\n",
    "                    \n",
    "def solve(grid):\n",
    "    alphabet = ''.join(re.findall(\"[a-zA-Z]+\", ''.join(set(''.join([c for c in \"\".join(grid) if c.isalpha()])))))\n",
    "    bogglable = re.compile('[' + alphabet + ']{3,}$', re.I).match\n",
    "\n",
    "    words = set(word.rstrip('\\n') for word in open('sowpods.txt') if bogglable(word))\n",
    "    prefixes = set(word[:i] for word in words for i in range(2, len(word)+1))\n",
    "    for y, row in enumerate(grid):\n",
    "        for x, letter in enumerate(row):\n",
    "            for result in extending(letter, ((x, y),), words, prefixes):\n",
    "                yield result    \n",
    "                "
   ]
  },
  {
   "cell_type": "code",
   "execution_count": 3,
   "metadata": {},
   "outputs": [],
   "source": [
    "def print_answers(a_words):\n",
    "    a_words.sort(key=lambda item: (-len(item), item))\n",
    "    lengths = set()\n",
    "    for w in a_words:\n",
    "        if len(w) in word_lengths:\n",
    "            lengths.add(len(w))\n",
    "    for i in sorted(list(lengths)):\n",
    "        print(', '.join(word for word in a_words if len(word) == i))\n",
    "        print()\n"
   ]
  },
  {
   "cell_type": "code",
   "execution_count": null,
   "metadata": {
    "collapsed": true
   },
   "outputs": [],
   "source": [
    "#def resolve(grid, word_lengths):\n",
    "#    global gr, word_l, nrows, ncols\n",
    "#    gr = grid.split()\n",
    "#    word_l = [int(i) for i in word_lengths.split(\",\")]\n",
    "#    nrows, ncols = len(gr), len(gr[0])\n",
    "#\n",
    "#    answer_words = [word for word, path in solve(gr) if len(word) in word_l]\n",
    "#    print_answers(answer_words)\n",
    "    \n",
    "#w = interact_manual(resolve, grid=\"abcde fghij klmno\", word_lengths=\"4, 5\")"
   ]
  }
 ],
 "metadata": {
  "kernelspec": {
   "display_name": "Python 3",
   "language": "python",
   "name": "python3"
  },
  "language_info": {
   "codemirror_mode": {
    "name": "ipython",
    "version": 3
   },
   "file_extension": ".py",
   "mimetype": "text/x-python",
   "name": "python",
   "nbconvert_exporter": "python",
   "pygments_lexer": "ipython3",
   "version": "3.6.6"
  }
 },
 "nbformat": 4,
 "nbformat_minor": 1
}
